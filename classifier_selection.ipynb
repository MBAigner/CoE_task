{
 "cells": [
  {
   "cell_type": "code",
   "execution_count": 9,
   "metadata": {},
   "outputs": [],
   "source": [
    "import sklearn \n",
    "import pandas as pd"
   ]
  },
  {
   "cell_type": "markdown",
   "metadata": {},
   "source": [
    "As described in the paper, the first step is to select base classifiers. \n",
    "The selected base classifiers are trained with default parameter settings with 10-fold cross-validation.\n",
    "As input data, the training data set and its ground truth labels, per single modality is used.\n",
    "For the audio MFCC features, we set NaN values to 0, and calculate the average of each MFCC coefficient over all frames."
   ]
  },
  {
   "cell_type": "markdown",
   "metadata": {},
   "source": [
    "# Load input data"
   ]
  },
  {
   "cell_type": "markdown",
   "metadata": {},
   "source": [
    "There are variouse csv files and data files available. It's very messy. \n",
    "There is one file called \"CoE_dataset_offical_release.zip\"! \n",
    "We extract this file and use this data included their for now! \n",
    "\n"
   ]
  },
  {
   "cell_type": "code",
   "execution_count": 22,
   "metadata": {},
   "outputs": [
    {
     "data": {
      "text/html": [
       "<div>\n",
       "<style scoped>\n",
       "    .dataframe tbody tr th:only-of-type {\n",
       "        vertical-align: middle;\n",
       "    }\n",
       "\n",
       "    .dataframe tbody tr th {\n",
       "        vertical-align: top;\n",
       "    }\n",
       "\n",
       "    .dataframe thead th {\n",
       "        text-align: right;\n",
       "    }\n",
       "</style>\n",
       "<table border=\"1\" class=\"dataframe\">\n",
       "  <thead>\n",
       "    <tr style=\"text-align: right;\">\n",
       "      <th></th>\n",
       "      <th>movie</th>\n",
       "      <th>filename</th>\n",
       "      <th>goodforairplane</th>\n",
       "    </tr>\n",
       "  </thead>\n",
       "  <tbody>\n",
       "    <tr>\n",
       "      <th>0</th>\n",
       "      <td>Seventh Son</td>\n",
       "      <td>Seventh_Son</td>\n",
       "      <td>1</td>\n",
       "    </tr>\n",
       "    <tr>\n",
       "      <th>1</th>\n",
       "      <td>Welcome to Me</td>\n",
       "      <td>Welcome_to_Me</td>\n",
       "      <td>0</td>\n",
       "    </tr>\n",
       "    <tr>\n",
       "      <th>2</th>\n",
       "      <td>The Judge</td>\n",
       "      <td>The_Judge</td>\n",
       "      <td>0</td>\n",
       "    </tr>\n",
       "    <tr>\n",
       "      <th>3</th>\n",
       "      <td>Transformers  Age of Extinction</td>\n",
       "      <td>Transformers__Age_of_Extinction</td>\n",
       "      <td>0</td>\n",
       "    </tr>\n",
       "    <tr>\n",
       "      <th>4</th>\n",
       "      <td>The Normal Heart</td>\n",
       "      <td>The_Normal_Heart</td>\n",
       "      <td>1</td>\n",
       "    </tr>\n",
       "    <tr>\n",
       "      <th>5</th>\n",
       "      <td>The Phantom Tollbooth</td>\n",
       "      <td>The_Phantom_Tollbooth</td>\n",
       "      <td>1</td>\n",
       "    </tr>\n",
       "    <tr>\n",
       "      <th>6</th>\n",
       "      <td>Andaz Apna Apna</td>\n",
       "      <td>Andaz_Apna_Apna</td>\n",
       "      <td>1</td>\n",
       "    </tr>\n",
       "    <tr>\n",
       "      <th>7</th>\n",
       "      <td>Hotel Transylvania</td>\n",
       "      <td>Hotel_Transylvania</td>\n",
       "      <td>1</td>\n",
       "    </tr>\n",
       "    <tr>\n",
       "      <th>8</th>\n",
       "      <td>The Matrix</td>\n",
       "      <td>The_Matrix</td>\n",
       "      <td>1</td>\n",
       "    </tr>\n",
       "    <tr>\n",
       "      <th>9</th>\n",
       "      <td>Into the Wild</td>\n",
       "      <td>Into_the_Wild</td>\n",
       "      <td>1</td>\n",
       "    </tr>\n",
       "  </tbody>\n",
       "</table>\n",
       "</div>"
      ],
      "text/plain": [
       "                             movie                         filename  \\\n",
       "0                      Seventh Son                      Seventh_Son   \n",
       "1                    Welcome to Me                    Welcome_to_Me   \n",
       "2                        The Judge                        The_Judge   \n",
       "3  Transformers  Age of Extinction  Transformers__Age_of_Extinction   \n",
       "4                 The Normal Heart                 The_Normal_Heart   \n",
       "5            The Phantom Tollbooth            The_Phantom_Tollbooth   \n",
       "6                  Andaz Apna Apna                  Andaz_Apna_Apna   \n",
       "7               Hotel Transylvania               Hotel_Transylvania   \n",
       "8                       The Matrix                       The_Matrix   \n",
       "9                    Into the Wild                    Into_the_Wild   \n",
       "\n",
       "   goodforairplane  \n",
       "0                1  \n",
       "1                0  \n",
       "2                0  \n",
       "3                0  \n",
       "4                1  \n",
       "5                1  \n",
       "6                1  \n",
       "7                1  \n",
       "8                1  \n",
       "9                1  "
      ]
     },
     "metadata": {},
     "output_type": "display_data"
    }
   ],
   "source": [
    "\n",
    "df_labeled_data = pd.read_csv(\"./data/CoE_dataset/Dev_set/dev_set_groundtruth_and_trailers.csv\", sep=';')\n",
    "del df_labeled_data['trailer']\n",
    "df_labeled_data = df_labeled_data[['movie','filename', 'goodforairplane']]\n",
    "display(df_labeled_data.head(10))\n",
    "\n",
    "#TODO load meta data contained in the XML folder \n",
    "# what data is used from this meta data ? \n",
    "#df_meta_data = pd\n",
    "\n",
    "#TODO load visual data\n",
    "\n",
    "#TODO load audio data \n",
    "\n",
    "#TODO load textual data \n",
    "\n"
   ]
  },
  {
   "cell_type": "code",
   "execution_count": 8,
   "metadata": {},
   "outputs": [],
   "source": [
    "from  sklearn.neighbors import KNeighborsClassifier, NearestCentroid #(not sure if this is the nearest mean classifiert) \n",
    "from  sklearn.tree import DecisionTreeClassifier\n",
    "from  sklearn.linear_model import LogisticRegression\n",
    "from  sklearn.svm import SVC #(not clear which SVC, there is also NuSVC )\n",
    "from  sklearn.ensemble import BaggingClassifier\n",
    "from  sklearn.ensemble import AdaBoostClassifier\n",
    "from  sklearn.ensemble import GradientBoostingClassifier\n",
    "from  sklearn.ensemble import RandomForestClassifier\n",
    "from  sklearn.naive_bayes import GaussianNB # there are 3 different naive bayes classifiers, it is not stated which one they used \n",
    "\n",
    "\n",
    "\n",
    "classifiers_list = [KNeighborsClassifier(),\n",
    "                    DecisionTreeClassifier(),\n",
    "                    LogisticRegression(),\n",
    "                    SVC(),\n",
    "                    BaggingClassifier(),\n",
    "                    AdaBoostClassifier(),\n",
    "                    GradientBoostingClassifier(),\n",
    "                    RandomForestClassifier(),\n",
    "                    GaussianNB() \n",
    "                   ]\n",
    "\n",
    "    \n"
   ]
  },
  {
   "cell_type": "code",
   "execution_count": null,
   "metadata": {},
   "outputs": [],
   "source": []
  }
 ],
 "metadata": {
  "kernelspec": {
   "display_name": "Python 3",
   "language": "python",
   "name": "python3"
  },
  "language_info": {
   "codemirror_mode": {
    "name": "ipython",
    "version": 3
   },
   "file_extension": ".py",
   "mimetype": "text/x-python",
   "name": "python",
   "nbconvert_exporter": "python",
   "pygments_lexer": "ipython3",
   "version": "3.7.0"
  }
 },
 "nbformat": 4,
 "nbformat_minor": 2
}
